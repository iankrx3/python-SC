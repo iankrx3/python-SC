{
 "cells": [
  {
   "cell_type": "markdown",
   "id": "60745c80",
   "metadata": {},
   "source": [
    "# 2023142212 이성찬"
   ]
  },
  {
   "cell_type": "markdown",
   "id": "ba37e289",
   "metadata": {},
   "source": [
    "## quiz3-1\n",
    "## for loop를 이용해 입력된 자연수가 N이라 하면 임의의 n번째 줄에서 (N-n)만큼의 공백과 (2n-1)만큼의 '*'모양을 찍는다."
   ]
  },
  {
   "cell_type": "code",
   "execution_count": null,
   "id": "1dd0f132",
   "metadata": {},
   "outputs": [],
   "source": [
    "#자연수를 입력\n",
    "num=int(input('자연수를 입력하세요: '))\n",
    "\n",
    "#for를 통해 n번째 줄에서 (num-i)만큼의 공백과 (2i-1)만큼의 '*'을 입력\n",
    "for i in range(1, num+1):\n",
    "    print(' '*(num-i), '*'*(2*i-1))"
   ]
  },
  {
   "cell_type": "markdown",
   "id": "8782a58a",
   "metadata": {},
   "source": [
    "## quiz3-2\n",
    "## if문과 elif, else를 이용해 가로와 높이의 차의 크기에 따라 세 경우로 나누고 각각의 연산을 수행한다."
   ]
  },
  {
   "cell_type": "code",
   "execution_count": null,
   "id": "511302d8",
   "metadata": {},
   "outputs": [],
   "source": [
    "#세 자연수를 각각의 변수에 입력\n",
    "a, b, c=map(int, input('서로 다른 세 자연수를 공백을 두고 입력하세요: ').split( ))\n",
    "#가장 큰 수가 가로가 되도록 함\n",
    "width=max(a, b, c)\n",
    "#가장 작은 수가 높이가 되도록 함\n",
    "height=min(a, b, c)\n",
    "#가로와 높이의 차를 구함\n",
    "k=width-height\n",
    "#가로와 높이의 차를 출력\n",
    "print(f'직육면체의 가로 길이는 {width}, 높이는 {height}이므로 그 차는 {k}입니다.')\n",
    "\n",
    "#if문을 통해 k의 크기에 따라 세 가지 경우의 수로 나눔\n",
    "if k<5:\n",
    "    print(f'직육면체의 부피는 {a*b*c}입니다.') #직육면체의 부피를 구한다\n",
    "elif k<10:\n",
    "    print(f'직육면체의 겉넓이는 {2*(a*b+b*c+c*a)}입니다.') #직육면체의 겉넓이를 구한다\n",
    "else:\n",
    "    print(f'직육면체의 대각선의 길이는 {round((a**2+b**2+c**2)**0.5)}입니다.') #직육면체의 대각선의 길이를 구하고 round함수로 반올림"
   ]
  }
 ],
 "metadata": {
  "kernelspec": {
   "display_name": "Python 3 (ipykernel)",
   "language": "python",
   "name": "python3"
  },
  "language_info": {
   "codemirror_mode": {
    "name": "ipython",
    "version": 3
   },
   "file_extension": ".py",
   "mimetype": "text/x-python",
   "name": "python",
   "nbconvert_exporter": "python",
   "pygments_lexer": "ipython3",
   "version": "3.9.13"
  }
 },
 "nbformat": 4,
 "nbformat_minor": 5
}
