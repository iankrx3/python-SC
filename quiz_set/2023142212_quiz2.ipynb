{
 "cells": [
  {
   "cell_type": "markdown",
   "id": "927b81c4",
   "metadata": {},
   "source": [
    "# 2023142212 이성찬"
   ]
  },
  {
   "cell_type": "markdown",
   "id": "f9df4245",
   "metadata": {},
   "source": [
    "## quiz2-1"
   ]
  },
  {
   "cell_type": "code",
   "execution_count": 14,
   "id": "f1b5577f",
   "metadata": {},
   "outputs": [
    {
     "name": "stdout",
     "output_type": "stream",
     "text": [
      "점수의 가중합은 94.1입니다.\n"
     ]
    }
   ],
   "source": [
    "#국어, 영어, 수학의 과목을 key로 하는 dictionary 선언\n",
    "dictionary={'국어': 90, '영어': 92, '수학': 100}\n",
    "#물리 과목을 dictionary에 추가\n",
    "dictionary['물리']=95\n",
    "#국어, 영어, 수학의 value에 0.3의 가중치 부여, 물리의 value에 0.1의 가중치 부여\n",
    "dictionary['국어']*=0.3\n",
    "dictionary['영어']*=0.3\n",
    "dictionary['수학']*=0.3\n",
    "dictionary['물리']*=0.1\n",
    "#\"점수의 가중합은 {}입니다.\"를 출력\n",
    "print(f'점수의 가중합은 {sum(dictionary.values())}입니다.')"
   ]
  },
  {
   "cell_type": "markdown",
   "id": "0581edcf",
   "metadata": {},
   "source": [
    "## quiz2-2"
   ]
  },
  {
   "cell_type": "code",
   "execution_count": 13,
   "id": "c318e6d9",
   "metadata": {},
   "outputs": [
    {
     "name": "stdout",
     "output_type": "stream",
     "text": [
      "문자열에 없는 두 자연수는 4과(와) 5입니다.\n"
     ]
    }
   ],
   "source": [
    "#1부터 10까지의 자연수 중 임의의 두 숫자가 빠져있고 그 순서가 섞여있는 문자열 선언\n",
    "L=[1, 10, 2, 3, 6, 9, 7, 8]\n",
    "#1부터 10까지의 자연수가 모두 있는 set을 선언\n",
    "A={1, 2, 3, 4, 5, 6, 7, 8, 9, 10}\n",
    "#list를 set으로 변환\n",
    "B=set(L)\n",
    "#set A에서 set B를 뺀 set을 선언\n",
    "C=A-B\n",
    "#set C를 list로 변환\n",
    "D=list(C)\n",
    "#문자열에 없는 두 자연수를 출력\n",
    "print(f'문자열에 없는 두 자연수는 {D[0]}과(와) {D[1]}입니다.')"
   ]
  },
  {
   "cell_type": "code",
   "execution_count": null,
   "id": "45038a3c",
   "metadata": {},
   "outputs": [],
   "source": []
  }
 ],
 "metadata": {
  "kernelspec": {
   "display_name": "Python 3 (ipykernel)",
   "language": "python",
   "name": "python3"
  },
  "language_info": {
   "codemirror_mode": {
    "name": "ipython",
    "version": 3
   },
   "file_extension": ".py",
   "mimetype": "text/x-python",
   "name": "python",
   "nbconvert_exporter": "python",
   "pygments_lexer": "ipython3",
   "version": "3.9.13"
  }
 },
 "nbformat": 4,
 "nbformat_minor": 5
}
