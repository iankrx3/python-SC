{
 "cells": [
  {
   "cell_type": "code",
   "execution_count": null,
   "metadata": {},
   "outputs": [],
   "source": [
    "# quiz1-1 자기소개(이름, 생일, 학번)\n",
    "print('안녕하세요!\\n제 이름은 이성찬입니다.\\n제 생일은 2003년 5월 10일입니다.\\n제 학번은 2023142212입니다.')\n",
    "# quiz1-2 일수 계산\n",
    "x = int(input('일수를 입력하세요: '))  ## 일수 입력\n",
    "y = x//365  ## 일수를 365로 나눈 몫\n",
    "w = (x-365*y)//7  ## 남은 일수를 7로 나눈 몫\n",
    "d = x-365*y-7*w  ## 마지막으로 남은 일수\n",
    "print(f'{x}일은 {y}년 {w}주 {d}일입니다.')"
   ]
  },
  {
   "cell_type": "code",
   "execution_count": null,
   "metadata": {},
   "outputs": [],
   "source": []
  }
 ],
 "metadata": {
  "kernelspec": {
   "display_name": "Python 3",
   "language": "python",
   "name": "python3"
  },
  "language_info": {
   "name": "python",
   "version": "3.9.13"
  },
  "orig_nbformat": 4
 },
 "nbformat": 4,
 "nbformat_minor": 2
}
