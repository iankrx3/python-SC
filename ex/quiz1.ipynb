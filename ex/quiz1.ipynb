{
 "cells": [
  {
   "cell_type": "code",
   "execution_count": 1,
   "metadata": {},
   "outputs": [
    {
     "name": "stdout",
     "output_type": "stream",
     "text": [
      "안녕하세요!\n",
      "제 이름은 이성찬입니다.\n",
      "제 생일은 2003년 5월 10일입니다.\n",
      "제 학번은 2023142212입니다.\n",
      "658일은 1년 41주 6일입니다.\n"
     ]
    }
   ],
   "source": [
    "# quiz1-1 자기소개(이름, 생일, 학번)\n",
    "print('안녕하세요!\\n제 이름은 이성찬입니다.\\n제 생일은 2003년 5월 10일입니다.\\n제 학번은 2023142212입니다.')\n",
    "# quiz1-2 일수 계산\n",
    "x = int(input('일수를 입력하세요: '))  ## 일수 입력\n",
    "y = x//365  ## 일수를 365로 나눈 몫\n",
    "w = (x-365*y)//7  ## 남은 일수를 7로 나눈 몫\n",
    "d = x-365*y-7*w  ## 마지막으로 남은 일수\n",
    "print(f'{x}일은 {y}년 {w}주 {d}일입니다.')"
   ]
  },
  {
   "cell_type": "code",
   "execution_count": 4,
   "metadata": {},
   "outputs": [
    {
     "name": "stdout",
     "output_type": "stream",
     "text": [
      "이성찬\n",
      "2003\n",
      "5\n",
      "안녕하세요!\n",
      "제 이름은 이성찬입니다.\n",
      "제 생일은 2003년 5월 10일입니다.\n",
      "제 학번은 2023142212입니다.\n"
     ]
    }
   ],
   "source": [
    "# quiz1-1 자기소개(이름, 생일, 학번)\n",
    "my = [ \"이성찬\", 2003, 5, 10, 2023142212 ]\n",
    "print( my[0] )\n",
    "print( my[1] )\n",
    "print( my[2] )\n",
    "print(f'안녕하세요!\\n제 이름은 {my[0]}입니다.\\n제 생일은 2003년 5월 10일입니다.\\n제 학번은 2023142212입니다.')\n",
    "\n"
   ]
  },
  {
   "cell_type": "code",
   "execution_count": null,
   "metadata": {},
   "outputs": [],
   "source": [
    "\n",
    "# quiz1-2 일수 계산\n",
    "x = int(input('일수를 입력하세요: '))  ## 일수 입력\n",
    "y = x//365  ## 일수를 365로 나눈 몫\n",
    "w = (x-365*y)//7  ## 남은 일수를 7로 나눈 몫\n",
    "d = x-365*y-7*w  ## 마지막으로 남은 일수\n",
    "print(f'{x}일은 {y}년 {w}주 {d}일입니다.')"
   ]
  }
 ],
 "metadata": {
  "kernelspec": {
   "display_name": "Python 3",
   "language": "python",
   "name": "python3"
  },
  "language_info": {
   "codemirror_mode": {
    "name": "ipython",
    "version": 3
   },
   "file_extension": ".py",
   "mimetype": "text/x-python",
   "name": "python",
   "nbconvert_exporter": "python",
   "pygments_lexer": "ipython3",
   "version": "3.8.10"
  },
  "orig_nbformat": 4
 },
 "nbformat": 4,
 "nbformat_minor": 2
}
